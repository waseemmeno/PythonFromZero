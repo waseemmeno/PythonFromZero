{
 "cells": [
  {
   "cell_type": "code",
   "execution_count": 7,
   "id": "92dd23ab-473e-4ad3-a561-2ba094fb1678",
   "metadata": {},
   "outputs": [
    {
     "name": "stdout",
     "output_type": "stream",
     "text": [
      "['From', 'stephen.marquard@uct.ac.za', 'Sat', 'Jan', '5', '09:14:16', '2008']\n",
      "['stephen.marquard', 'uct.ac.za']\n",
      "uct.ac.za\n"
     ]
    }
   ],
   "source": [
    "#use of split method,  The Double Split Pattern\n",
    "\n",
    "line=\"From stephen.marquard@uct.ac.za Sat Jan  5 09:14:16 2008\"\n",
    "\n",
    "words=line.split() \n",
    "print(words)\n",
    "email=words[1]\n",
    "peices=email.split(\"@\")\n",
    "print(peices)\n",
    "print(peices[1])"
   ]
  },
  {
   "cell_type": "code",
   "execution_count": null,
   "id": "d3475828-3d26-4682-8249-c4c86cd21b05",
   "metadata": {},
   "outputs": [],
   "source": []
  }
 ],
 "metadata": {
  "kernelspec": {
   "display_name": "Python 3 (ipykernel)",
   "language": "python",
   "name": "python3"
  },
  "language_info": {
   "codemirror_mode": {
    "name": "ipython",
    "version": 3
   },
   "file_extension": ".py",
   "mimetype": "text/x-python",
   "name": "python",
   "nbconvert_exporter": "python",
   "pygments_lexer": "ipython3",
   "version": "3.12.3"
  }
 },
 "nbformat": 4,
 "nbformat_minor": 5
}
